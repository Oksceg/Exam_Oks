{
 "cells": [
  {
   "cell_type": "markdown",
   "metadata": {},
   "source": [
    "### Оксана Цегоева, группа БКЛ194"
   ]
  },
  {
   "cell_type": "markdown",
   "metadata": {},
   "source": [
    "### Задание: дан текст, разделенный на абзацы. Необходимо построить обратный индекс этого текста, показывающий в каком абзаце и на какой позиции хранится слово. Пользователь вводит два слова. Необходимо определить, находятся ли эти два слова в соседних абзацах. Если слова находятся в одном абзаце, необходимо найти расстояние между ними."
   ]
  },
  {
   "cell_type": "markdown",
   "metadata": {},
   "source": [
    "### 1. Узнаем, в каком абзаце и на какой позиции в абзаце находится слово"
   ]
  },
  {
   "cell_type": "code",
   "execution_count": 30,
   "metadata": {},
   "outputs": [
    {
     "name": "stdout",
     "output_type": "stream",
     "text": [
      "['water earth fire air long ago the four nations lived together in harmony ', 'then everything changed when the fire nation attacked', 'only the avatar master of all four elements  could stop them ', 'but when the world needed him most he vanished ', 'a hundred years passed and my brother and i discovered the new avatar ', 'an airbender named aang and although his airbending skills are great ', \"he still has a lot to learn before he's ready to save anyone\", 'but i believe aang can save the world']\n"
     ]
    }
   ],
   "source": [
    "import re\n",
    "with open('C:\\ФИКЛ\\для питона\\intro_atla.txt', 'r', encoding = 'utf-8') as f:\n",
    "    text = f.read()\n",
    "    text = text.lower()\n",
    "    cleaned_text = re.sub(r'[^\\w\\s\\']','',text)\n",
    "    cleaned_text = cleaned_text.split('\\n')\n",
    "    print(cleaned_text)"
   ]
  },
  {
   "cell_type": "code",
   "execution_count": 31,
   "metadata": {},
   "outputs": [
    {
     "name": "stdout",
     "output_type": "stream",
     "text": [
      "[['water', 1, 1], ['earth', 1, 2], ['fire', 1, 3], ['air', 1, 4], ['long', 1, 5], ['ago', 1, 6], ['the', 1, 7], ['four', 1, 8], ['nations', 1, 9], ['lived', 1, 10], ['together', 1, 11], ['in', 1, 12], ['harmony', 1, 13], ['then', 2, 1], ['everything', 2, 2], ['changed', 2, 3], ['when', 2, 4], ['the', 2, 5], ['fire', 2, 6], ['nation', 2, 7], ['attacked', 2, 8], ['only', 3, 1], ['the', 3, 2], ['avatar', 3, 3], ['master', 3, 4], ['of', 3, 5], ['all', 3, 6], ['four', 3, 7], ['elements', 3, 8], ['could', 3, 9], ['stop', 3, 10], ['them', 3, 11], ['but', 4, 1], ['when', 4, 2], ['the', 4, 3], ['world', 4, 4], ['needed', 4, 5], ['him', 4, 6], ['most', 4, 7], ['he', 4, 8], ['vanished', 4, 9], ['a', 5, 1], ['hundred', 5, 2], ['years', 5, 3], ['passed', 5, 4], ['and', 5, 5], ['my', 5, 6], ['brother', 5, 7], ['and', 5, 8], ['i', 5, 9], ['discovered', 5, 10], ['the', 5, 11], ['new', 5, 12], ['avatar', 5, 13], ['an', 6, 1], ['airbender', 6, 2], ['named', 6, 3], ['aang', 6, 4], ['and', 6, 5], ['although', 6, 6], ['his', 6, 7], ['airbending', 6, 8], ['skills', 6, 9], ['are', 6, 10], ['great', 6, 11], ['he', 7, 1], ['still', 7, 2], ['has', 7, 3], ['a', 7, 4], ['lot', 7, 5], ['to', 7, 6], ['learn', 7, 7], ['before', 7, 8], [\"he's\", 7, 9], ['ready', 7, 10], ['to', 7, 11], ['save', 7, 12], ['anyone', 7, 13], ['but', 8, 1], ['i', 8, 2], ['believe', 8, 3], ['aang', 8, 4], ['can', 8, 5], ['save', 8, 6], ['the', 8, 7], ['world', 8, 8]]\n"
     ]
    }
   ],
   "source": [
    "prgphs = {} #словарь вида {индекс абзаца: абзац}\n",
    "all_prgphs_words = [] #список словарей вида {индекс слова: слова}. \n",
    "#Записано в список, т.к. каждый такой словарь собран в каждом абзаце\n",
    "ultimate_data = [] #список маленьких списков, \n",
    "#где каждый маленький список имеет вид [слово, индекс абзаца, индекс слова в абзаце]\n",
    "prgph_index = 1\n",
    "for prgph in cleaned_text:\n",
    "    prgphs[prgph_index] = prgph\n",
    "    prgph_index += 1\n",
    "    \n",
    "    words = {}\n",
    "    word_index = 1\n",
    "    prgph_words = prgph.split()\n",
    "    \n",
    "    for word in prgph_words:\n",
    "        word_data = []\n",
    "        word_data.append(word)\n",
    "        word_data.append(prgph_index - 1)\n",
    "        word_data.append(word_index)\n",
    "        ultimate_data.append(word_data)\n",
    "        \n",
    "        words[word_index] = word\n",
    "        word_index += 1\n",
    "        if word == prgph_words[-1]:\n",
    "            word_index = 1\n",
    "    all_prgphs_words.append(words)\n",
    "print(ultimate_data)   "
   ]
  },
  {
   "cell_type": "markdown",
   "metadata": {},
   "source": [
    "### 2. Работа с inputом пользователя"
   ]
  },
  {
   "cell_type": "markdown",
   "metadata": {},
   "source": [
    "Пользователь вводит два слова через пробел, слова есть в тексте."
   ]
  },
  {
   "cell_type": "code",
   "execution_count": 101,
   "metadata": {},
   "outputs": [],
   "source": [
    "def where_are_words(some_two_words):\n",
    "    firstword_prgph = 0\n",
    "    secword_prgph = 0\n",
    "    if some_two_words[0] == some_two_words[1]:\n",
    "        print(\"Вы ввели одно и то же слово.\")\n",
    "        \n",
    "    for oneword_data in ultimate_data:\n",
    "        if oneword_data[0] == some_two_words[0]:\n",
    "            firstword_prgph = int(oneword_data[1])\n",
    "        if oneword_data[0] == some_two_words[1]:\n",
    "            secword_prgph = int(oneword_data[1])\n",
    "    dfrnc = 0\n",
    "    if secword_prgph > firstword_prgph:\n",
    "        dfrnc = secword_prgph - firstword_prgph\n",
    "        if dfrnc == 1:\n",
    "            return f\"Слова '{some_two_words[0]}' и '{some_two_words[1]}' находятся в соседних абзацах {firstword_prgph} и {secword_prgph}\"\n",
    "        else:\n",
    "            return f\"Слово {some_two_words[0]} находится в абзаце {firstword_prgph}, а слово {some_two_words[1]} находится в абзаце {secword_prgph}\"\n",
    "    elif secword_prgph < firstword_prgph:\n",
    "        dfrnc = firstword_prgph - secword_prgph\n",
    "        if dfrnc == 1:\n",
    "            return f\"Слова '{some_two_words[0]}' и '{some_two_words[1]}' находятся в соседних абзацах {firstword_prgph} и {secword_prgph}\"\n",
    "        else:\n",
    "            return f\"Слово {some_two_words[0]} находится в абзаце {firstword_prgph}, а слово {some_two_words[1]} находится в абзаце {secword_prgph}\"\n",
    "    elif secword_prgph == firstword_prgph:\n",
    "        print(f\"Слова '{some_two_words[0]}' и '{some_two_words[1]}' находятся в одном и том же абзаце {firstword_prgph}.\")\n",
    "        prgph_items = all_prgphs_words[firstword_prgph-1].items()\n",
    "        int_inds = []\n",
    "        for ind, wrd in prgph_items:\n",
    "            if wrd == some_two_words[0]:\n",
    "                int_ind = int(ind)\n",
    "                int_inds.append(int_ind)\n",
    "            elif wrd == some_two_words[1]:\n",
    "                int_ind = int(ind)\n",
    "                int_inds.append(int_ind)\n",
    "        S = 0\n",
    "        if len(int_inds) > 1:\n",
    "            if int_inds[0] > int_inds[1]:\n",
    "                S = int_inds[0]-int_inds[1]\n",
    "                return f\"Слова находятся на расстоянии {S}. Расстояние равно разности позиций двух слов.\"               \n",
    "            elif int_inds[0] < int_inds[1]:\n",
    "                S = int_inds[1]-int_inds[0]\n",
    "                return f\"Слова находятся на расстоянии {S}. Расстояние равно разности позиций двух слов.\" \n",
    "        else:\n",
    "            return f\"Расстояние равно 0.\"\n",
    "    else: \n",
    "        return f\"Слово {some_two_words[0]} находится в абзаце {firstword_prgph}, а слово {some_two_words[1]} находится в абзаце {secword_prgph}\""
   ]
  },
  {
   "cell_type": "markdown",
   "metadata": {},
   "source": [
    "**Если ввести одно и то же слово:**"
   ]
  },
  {
   "cell_type": "code",
   "execution_count": 102,
   "metadata": {},
   "outputs": [
    {
     "name": "stdout",
     "output_type": "stream",
     "text": [
      "water water\n"
     ]
    }
   ],
   "source": [
    "twords_same=input()"
   ]
  },
  {
   "cell_type": "code",
   "execution_count": 103,
   "metadata": {},
   "outputs": [
    {
     "name": "stdout",
     "output_type": "stream",
     "text": [
      "Вы ввели одно и то же слово.\n",
      "Слова 'water' и 'water' находятся в одном и том же абзаце 1.\n"
     ]
    },
    {
     "data": {
      "text/plain": [
       "'Расстояние равно 0.'"
      ]
     },
     "execution_count": 103,
     "metadata": {},
     "output_type": "execute_result"
    }
   ],
   "source": [
    "twords_same=twords_same.split()\n",
    "where_are_words(twords_same)"
   ]
  },
  {
   "cell_type": "markdown",
   "metadata": {},
   "source": [
    "**Если ввести два слова из одного абзаца:**"
   ]
  },
  {
   "cell_type": "code",
   "execution_count": 104,
   "metadata": {},
   "outputs": [
    {
     "name": "stdout",
     "output_type": "stream",
     "text": [
      "water air\n"
     ]
    }
   ],
   "source": [
    "twords_one_prgph=input()"
   ]
  },
  {
   "cell_type": "code",
   "execution_count": 105,
   "metadata": {},
   "outputs": [
    {
     "name": "stdout",
     "output_type": "stream",
     "text": [
      "Слова 'water' и 'air' находятся в одном и том же абзаце 1.\n"
     ]
    },
    {
     "data": {
      "text/plain": [
       "'Слова находятся на расстоянии 3. Расстояние равно разности позиций двух слов.'"
      ]
     },
     "execution_count": 105,
     "metadata": {},
     "output_type": "execute_result"
    }
   ],
   "source": [
    "twords_one_prgph=twords_one_prgph.split()\n",
    "where_are_words(twords_one_prgph)"
   ]
  },
  {
   "cell_type": "markdown",
   "metadata": {},
   "source": [
    "**Если ввести два слова из соседних абзацев:**"
   ]
  },
  {
   "cell_type": "code",
   "execution_count": 91,
   "metadata": {},
   "outputs": [
    {
     "name": "stdout",
     "output_type": "stream",
     "text": [
      "skills he\n"
     ]
    }
   ],
   "source": [
    "twords_dif_prgs=input()"
   ]
  },
  {
   "cell_type": "code",
   "execution_count": 92,
   "metadata": {},
   "outputs": [
    {
     "data": {
      "text/plain": [
       "\"Слова 'skills' и 'he' находятся в соседних абзацах 6 и 7\""
      ]
     },
     "execution_count": 92,
     "metadata": {},
     "output_type": "execute_result"
    }
   ],
   "source": [
    "twords_dif_prgs=twords_dif_prgs.split()\n",
    "where_are_words(twords_dif_prgs)"
   ]
  },
  {
   "cell_type": "markdown",
   "metadata": {},
   "source": [
    "**Если ввести два слова из разных абзацев, которые не являются соседями:**"
   ]
  },
  {
   "cell_type": "code",
   "execution_count": 93,
   "metadata": {},
   "outputs": [
    {
     "name": "stdout",
     "output_type": "stream",
     "text": [
      "air aang\n"
     ]
    }
   ],
   "source": [
    "twords_dif_prgphs=input()"
   ]
  },
  {
   "cell_type": "code",
   "execution_count": 94,
   "metadata": {},
   "outputs": [
    {
     "data": {
      "text/plain": [
       "'Слово air находится в абзаце 1, а слово aang находится в абзаце 8'"
      ]
     },
     "execution_count": 94,
     "metadata": {},
     "output_type": "execute_result"
    }
   ],
   "source": [
    "twords_dif_prgphs=twords_dif_prgphs.split()\n",
    "where_are_words(twords_dif_prgphs)"
   ]
  },
  {
   "cell_type": "markdown",
   "metadata": {},
   "source": [
    "**Явный недостаток программы:** программа работает не совсем идеально, когда слово в тексте встречается несколько раз, а соответсвенно имеет разные позиции. Программа покажет лишь один из возможных вариантов в таком случае."
   ]
  }
 ],
 "metadata": {
  "kernelspec": {
   "display_name": "Python 3",
   "language": "python",
   "name": "python3"
  },
  "language_info": {
   "codemirror_mode": {
    "name": "ipython",
    "version": 3
   },
   "file_extension": ".py",
   "mimetype": "text/x-python",
   "name": "python",
   "nbconvert_exporter": "python",
   "pygments_lexer": "ipython3",
   "version": "3.8.2"
  }
 },
 "nbformat": 4,
 "nbformat_minor": 4
}
